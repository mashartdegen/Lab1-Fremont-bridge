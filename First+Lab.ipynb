{
 "cells": [
  {
   "cell_type": "markdown",
   "metadata": {},
   "source": [
    "# Statistical Analysis of Bike Traffic on the Fremont Bridge (September 2015 & 10/3/12-8/31/16)"
   ]
  },
  {
   "cell_type": "markdown",
   "metadata": {},
   "source": [
    "Introduction: Questions that are to be answered via statistical analysis and inference\n",
    "    1. Which days of the week are the most popular for bike traffic on the Fremont Bridge?\n",
    "    2. Which direction is the most popular: westbound or eastbound?\n",
    "    3. Why might certain days be more popular than others?"
   ]
  },
  {
   "cell_type": "markdown",
   "metadata": {},
   "source": [
    "# Data from September 2015"
   ]
  },
  {
   "cell_type": "markdown",
   "metadata": {},
   "source": [
    "## Data Set Preparation"
   ]
  },
  {
   "cell_type": "markdown",
   "metadata": {},
   "source": [
    "For the data set preparation I am going to transfer the data from the csv file into my notebook. \n",
    "Then I'm going to print the data into two lists, west and eastbound.\n",
    "Once I have lists for each direction, I'm going to split the data into days of the week.\n",
    "After splitting the data, I will be able to use python math functions to find the average and median values of the lists."
   ]
  },
  {
   "cell_type": "code",
   "execution_count": 30,
   "metadata": {
    "collapsed": true
   },
   "outputs": [],
   "source": [
    "# opening and reading the fremont bridge data file\n",
    "# this is the first step toward data analysis\n",
    "# the location of the file is - Jupyter; the fremont bridge folder; csv file number one\n",
    "data_file = open(\"fremontBridge/FreBridge1.csv\", \"r\");\n",
    "# creating an empty list to store the data named fremont_data\n",
    "fremont_data = [];\n",
    "# data can now be iterated into the list\n",
    "for ii in data_file:\n",
    "    fremont_data.append(ii);\n",
    "# I'm using a for loop with the loop counter ii   \n",
    "# now close the file for ettiquette and tidiness sake\n",
    "data_file.close();"
   ]
  },
  {
   "cell_type": "code",
   "execution_count": 31,
   "metadata": {},
   "outputs": [
    {
     "name": "stdout",
     "output_type": "stream",
     "text": [
      "[1393, 1745, 1532, 1425, 826, 466, 1107, 1733, 2070, 1961, 1863, 1178, 648, 1615, 1795, 1782, 1160, 1461, 981, 712, 1824, 2190, 2270, 2086, 1314, 899, 895, 1907, 2097, 1992]\n",
      "[1483, 1867, 1627, 1512, 770, 425, 898, 1932, 2243, 2069, 1898, 1013, 679, 1669, 1862, 1949, 1293, 1539, 853, 591, 1981, 2361, 2292, 2235, 1370, 869, 676, 1955, 2239, 2063]\n"
     ]
    }
   ],
   "source": [
    "# data Processing - Cleaning up and splitting the data into two lists, east and east westbound\n",
    "# this allows for further statistical analysis on cleaned up lists\n",
    "# dividing the data into west and east lists allows for more analysis and opportunities for interesting trends\n",
    "# remove the first element (column header) - basically data number 0\n",
    "del fremont_data[0];\n",
    "# using delete function\n",
    "# creating empty lists for westbound and eastbound bike traffic\n",
    "west = [];\n",
    "east = [];    \n",
    "for jj in range(len(fremont_data)):\n",
    "    # make into a list of lists of just numbers\n",
    "    # another for loop with a jj loop counter\n",
    "    # remember that len is the \"length\" of a data set\n",
    "    fremont_data[jj] = fremont_data[jj].split(\",\");\n",
    "    #add data to specific lists for west and east\n",
    "    west.append(int(fremont_data[jj][1]));\n",
    "    east.append(int(fremont_data[jj][2]));\n",
    "    # append means an addition or attachment\n",
    "\n",
    "print(west);\n",
    "print(east)\n",
    "# now that the data has been inputted, the data can be printed into tidy lists"
   ]
  },
  {
   "cell_type": "code",
   "execution_count": 32,
   "metadata": {},
   "outputs": [
    {
     "name": "stdout",
     "output_type": "stream",
     "text": [
      "Mondays westbound: [1393, 1733, 1795, 2190, 2097] Tuesdays westbound: [1745, 2070, 1782, 2270, 1992] Wednesdays westbound: [1532, 1961, 1160, 2086] Thursdays westbound: [826, 1178, 981, 899] Fridays westbound: [466, 648, 712, 895] Saturdays westbound: [1107, 1615, 1824, 1907] Sundays westbound: [1733, 1795, 2190, 2097]\n",
      "Mondays eastbound: [1483, 1932, 1862, 2361, 2239] Tuesdays eastbound: [1867, 2243, 1949, 2292, 2063] Wednesdays eastbound: [1627, 2069, 1293, 2235] Thursdays eastbound: [770, 1013, 853, 869] Fridays eastbound: [425, 679, 591, 676] Saturdays eastbound: [898, 1669, 1981, 1955] Sundays eastbound: [1932, 1862, 2361, 2239]\n"
     ]
    }
   ],
   "source": [
    "# now I'm going to split the data up even further\n",
    "# I'm going to divide each data set (west and east) into smaller lists\n",
    "# I want to examine the data for each day of the week\n",
    "# that's why I will create lists called mon, tue, wed, thu, fri, sat, sun\n",
    "# the first lists will be westbound and then I'll make eastbound lists\n",
    "mon = [];\n",
    "tue = [];\n",
    "# I kept having syntax errors regarding the empty sets\n",
    "# then I realized that I needed to have an equal sign in between the var and the empty list\n",
    "# originally I had mon [];\n",
    "wed = [];\n",
    "thu = [];\n",
    "fri = [];\n",
    "sat = [];\n",
    "sun = [];\n",
    "# empty lists soon to be filled\n",
    "mon_e = [];\n",
    "tue_e = [];\n",
    "wed_e = [];\n",
    "thu_e = [];\n",
    "fri_e = [];\n",
    "sat_e = [];\n",
    "sun_e = [];\n",
    "# splitting data into days of the week\n",
    "mon=west[0::7]\n",
    "tue=west[1::7]\n",
    "wed=west[2::7]\n",
    "thu=west[4::7]\n",
    "fri=west[5::7]\n",
    "sat=west[6::7]\n",
    "sun=west[7::7]\n",
    "# the first number tells python where to start in the list\n",
    "# the second number (7) tells python to select every 7th value after the first chosen nunber in the set\n",
    "# now it's time for eastbound bike traffic\n",
    "# the underscore e stands for eastbound\n",
    "mon_e=east[0::7]\n",
    "tue_e=east[1::7]\n",
    "wed_e=east[2::7]\n",
    "thu_e=east[4::7]\n",
    "fri_e=east[5::7]\n",
    "sat_e=east[6::7]\n",
    "sun_e=east[7::7]\n",
    "\n",
    "print(\"Mondays westbound:\", mon, \"Tuesdays westbound:\", tue, \"Wednesdays westbound:\", wed, \"Thursdays westbound:\", thu, \"Fridays westbound:\", fri, \"Saturdays westbound:\", sat, \"Sundays westbound:\", sun)\n",
    "print(\"Mondays eastbound:\", mon_e, \"Tuesdays eastbound:\", tue_e, \"Wednesdays eastbound:\", wed_e, \"Thursdays eastbound:\", thu_e, \"Fridays eastbound:\", fri_e, \"Saturdays eastbound:\", sat_e, \"Sundays eastbound:\", sun_e)"
   ]
  },
  {
   "cell_type": "markdown",
   "metadata": {},
   "source": [
    "## Data Set Modeling"
   ]
  },
  {
   "cell_type": "markdown",
   "metadata": {},
   "source": [
    "Now that I have the data prepared and split into lists, I can now initiate data modeling.\n",
    "This is what will allow me to answer my first two questions."
   ]
  },
  {
   "cell_type": "code",
   "execution_count": 56,
   "metadata": {},
   "outputs": [
    {
     "name": "stdout",
     "output_type": "stream",
     "text": [
      "Mon(w)avg= 1841.6 Mon(w)med= 1795 Tue(w)avg= 1971.8 Tue(w)med= 1992\n",
      "Wed(w)avg= 1684.75 Wed(w)med= 1746.5 Thu(w)avg= 971 Thu(w)med= 940.0\n",
      "Fri(w)avg= 680.25 Fri(w)med= 680.0 Sat(w)avg= 1613.25 Sat(w)med= 1719.5\n",
      "Sun(w)avg= 1953.75 Sun(w)med 1946.0\n",
      "Mon(e)avg= 1975.4 Mon(e)med= 1932 Tue(e)avg= 2082.8 Tue(e)med= 2063\n",
      "Wed(e)avg= 1806 Wed(e)med= 1848.0 Thu(e)avg= 876.25 Thu(e)med= 861.0\n",
      "Fri(e)avg= 592.75 Fri(e)med= 633.5 Sat(e)avg= 1625.75 Sat(e)med= 1812.0\n",
      "Sun(e)avg= 2098.5 Sun(e)med= 2085.5\n"
     ]
    }
   ],
   "source": [
    "# now that the data has been sorted into days of the week, it's time for some statistics\n",
    "# I'm going to find the mean and median of every list (west and east)\n",
    "# in order to find the median of the lists I am going to use the sort operator\n",
    "mon.sort();\n",
    "tue.sort();\n",
    "wed.sort();\n",
    "thu.sort();\n",
    "fri.sort();\n",
    "sat.sort();\n",
    "sun.sort();\n",
    "# now to sort the eastbound lists\n",
    "mon_e.sort();\n",
    "tue_e.sort();\n",
    "wed_e.sort();\n",
    "thu_e.sort();\n",
    "fri_e.sort();\n",
    "sat_e.sort();\n",
    "sun_e.sort();\n",
    "\n",
    "import statistics\n",
    "monAvg = statistics.mean(mon)\n",
    "monMedian = statistics.median(mon)\n",
    "tueAvg = statistics.mean(tue)\n",
    "tueMedian = statistics.median(tue)\n",
    "wedAvg = statistics.mean(wed)\n",
    "wedMedian = statistics.median(wed)\n",
    "thuAvg = statistics.mean(thu)\n",
    "thuMedian = statistics.median(thu)\n",
    "friAvg = statistics.mean(fri)\n",
    "friMedian = statistics.median(fri)\n",
    "satAvg = statistics.mean(sat)\n",
    "satMedian = statistics.median(sat)\n",
    "sunAvg = statistics.mean(sun)\n",
    "sunMedian = statistics.median(sun)\n",
    "# now for the eastbound data\n",
    "mon_eAvg = statistics.mean(mon_e)\n",
    "mon_eMedian = statistics.median(mon_e)\n",
    "tue_eAvg = statistics.mean(tue_e)\n",
    "tue_eMedian = statistics.median(tue_e)\n",
    "wed_eAvg = statistics.mean(wed_e)\n",
    "wed_eMedian = statistics.median(wed_e)\n",
    "thu_eAvg = statistics.mean(thu_e)\n",
    "thu_eMedian = statistics.median(thu_e)\n",
    "fri_eAvg = statistics.mean(fri_e)\n",
    "fri_eMedian = statistics.median(fri_e)\n",
    "sat_eAvg = statistics.mean(sat_e)\n",
    "sat_eMedian = statistics.median(sat_e)\n",
    "sun_eAvg = statistics.mean(sun_e)\n",
    "sun_eMedian = statistics.median(sun_e)\n",
    "# printing the westbound data sets\n",
    "print(\"Mon(w)avg=\", monAvg, \"Mon(w)med=\", monMedian, \"Tue(w)avg=\", tueAvg, \"Tue(w)med=\", tueMedian)\n",
    "print(\"Wed(w)avg=\", wedAvg, \"Wed(w)med=\", wedMedian, \"Thu(w)avg=\", thuAvg, \"Thu(w)med=\", thuMedian)\n",
    "print(\"Fri(w)avg=\", friAvg, \"Fri(w)med=\", friMedian, \"Sat(w)avg=\", satAvg, \"Sat(w)med=\", satMedian)\n",
    "print(\"Sun(w)avg=\", sunAvg, \"Sun(w)med\", sunMedian)\n",
    "# now printing the eastbound data sets\n",
    "print(\"Mon(e)avg=\", mon_eAvg, \"Mon(e)med=\", mon_eMedian, \"Tue(e)avg=\", tue_eAvg, \"Tue(e)med=\", tue_eMedian)\n",
    "print(\"Wed(e)avg=\", wed_eAvg, \"Wed(e)med=\", wed_eMedian, \"Thu(e)avg=\", thu_eAvg, \"Thu(e)med=\", thu_eMedian)\n",
    "print(\"Fri(e)avg=\", fri_eAvg, \"Fri(e)med=\", fri_eMedian, \"Sat(e)avg=\", sat_eAvg, \"Sat(e)med=\", sat_eMedian)\n",
    "print(\"Sun(e)avg=\", sun_eAvg, \"Sun(e)med=\", sun_eMedian)"
   ]
  },
  {
   "cell_type": "markdown",
   "metadata": {},
   "source": [
    "Now that I have the average bike traffic counts for every day of the week, I can answer the first question. \n",
    "\n",
    "    **Westbound**\n",
    "\n",
    "The highest average bike traffic day of the week is (in my opinion) surprisingly Tuesday (avg of 1971.8 bike crossings).\n",
    "Before starting this lab, I assumed that weekdays would be the least popular biking days.\n",
    "The lowest average belongs to Friday with an average of 680.25 bike crossings. \n",
    "The full order goes (highest to lowest): Tuesday, Sunday, Monday, Wednesday, Saturday, Thursday, Friday\n",
    "\n",
    "    **Eastbound**\n",
    "\n",
    "The highest average bike traffic day of the week is Sunday (avg of 2098.5 bike crossings).\n",
    "The lowest average belongs to once again to Friday with an even lower average of 592.75 bike crossings. \n",
    "The full order goes (highest to lowest): Sunday, Tuesday, Monday, Wednesday, Saturday, Thursday, Friday\n",
    "The only difference in the order is that Sunday and Tuesday are switched. \n",
    "Though the difference in value between Sunday and Tuesday is very small (15.7 more bike crossings for Sunday)"
   ]
  },
  {
   "cell_type": "code",
   "execution_count": 57,
   "metadata": {},
   "outputs": [
    {
     "name": "stdout",
     "output_type": "stream",
     "text": [
      "Average westbound crossings in one day 1530.9142857142856 Average eastbound crossings in one day 1579.6357142857144\n"
     ]
    }
   ],
   "source": [
    "# in addition to finding out which days of the week are the most popular, I want to find which direction is the most popular\n",
    "# to do this, I am going to average all the days of the week averages (westbound and eastbound separately)\n",
    "# the highest of the two values will be the more popular direction of bike traffic\n",
    "# first I am finding the total, then I will divide by the length (7 in both cases)\n",
    "westbound_total = (monAvg+tueAvg+wedAvg+thuAvg+friAvg+satAvg+sunAvg)\n",
    "eastbound_total = (mon_eAvg+tue_eAvg+wed_eAvg+thu_eAvg+fri_eAvg+sat_eAvg+sun_eAvg)\n",
    "westbound_avg = (westbound_total/7)\n",
    "eastbound_avg = (eastbound_total/7)\n",
    "print(\"Average westbound crossings in one day\", westbound_avg, \"Average eastbound crossings in one day\", eastbound_avg)\n",
    "# analysis of all results at the bottom of the lab"
   ]
  },
  {
   "cell_type": "markdown",
   "metadata": {},
   "source": [
    "By looking at the results, I can answer the 2nd question. The average number of westbound crossings is only slightly less than the average number of eastbound crossings. If there was a greater disparity, I would be more intrigued and maybe do research as to why one direction might be vastly more popular than the other. Since the difference in bike traffic is very low, I am not that interested in this finding. "
   ]
  },
  {
   "cell_type": "markdown",
   "metadata": {},
   "source": [
    "## Conclusion"
   ]
  },
  {
   "cell_type": "markdown",
   "metadata": {},
   "source": [
    "During the preparation and modeling of the data, I answered the first two questions. \n",
    "In this conclusion, I am going to summarize my findings and answer the 3rd and final question: Why might certain days be more popular than others? \n",
    "\n",
    "**September Data**\n",
    "\n",
    "By extracting, preparing, and modeling the September 2015 data, I found which days and which direction were the most popular. I noticed that the order of the most popular days was different for the westbound and eastbound lists. The most popular westbound day was Tuesday (surprisingly a weekday) and the most popular eastbound day was Sunday (less surprising because it is a weekend day). A similarity in my findings was that Friday was the least popular bike traffic day. As for the answer to question three, I think that biking is less popular on Friday due to the fact that it is the last weekday. My best guess is that by the end of the week, commuters (especially those that work and live on opposite sides of the bridge) are very tired and do not want to have to bike home as maybe they had been earlier in the week. The fact that Tuesday was the most popular westbound commute day was quite puzzling to me. I'm still not sure why this is the case. For the eastbound direction though, Sunday is unsurprisingly the most popular day. Very few people work on Sunday and as a result, people who are looking for something to do or a bit of exercise tend to ride that day. In addition, I found that the westbound direction was more popular but only by very little."
   ]
  },
  {
   "cell_type": "markdown",
   "metadata": {},
   "source": [
    "# Data from 10/3/12-8/31/16"
   ]
  },
  {
   "cell_type": "markdown",
   "metadata": {},
   "source": [
    "## Data Set Preparation"
   ]
  },
  {
   "cell_type": "markdown",
   "metadata": {},
   "source": [
    "Now that I've finished preparing and modeling the fremont bridge data for September 2015, I now am going to do the same for a larger data set.\n",
    "This data set includes bike traffic (westbound and eastbound) from 10/3/12-8/31/16. A lot of the following code will be the same code found in the earlier stages of this lab."
   ]
  },
  {
   "cell_type": "code",
   "execution_count": 75,
   "metadata": {
    "collapsed": true
   },
   "outputs": [],
   "source": [
    "# opening and reading the fremont bridge data file\n",
    "# this is the first step toward data analysis\n",
    "# the location of the file is - Jupyter; the fremont bridge folder; csv file number one\n",
    "data_file = open(\"fremontBridge/FreBridge2.csv\", \"r\");\n",
    "# creating an empty list to store the data named fremont_data\n",
    "big_fremont = [];\n",
    "# data can now be iterated into the list\n",
    "for ii in data_file:\n",
    "    big_fremont.append(ii);\n",
    "# I'm using a for loop with the loop counter ii   \n",
    "# now close the file for ettiquette and tidiness sake\n",
    "data_file.close();"
   ]
  },
  {
   "cell_type": "code",
   "execution_count": 76,
   "metadata": {},
   "outputs": [
    {
     "name": "stdout",
     "output_type": "stream",
     "text": [
      "[1760, 1708, 1558, 1080, 1191, 1829, 1759, 1648, 1579, 1022, 415, 427, 1200, 1559, 1647, 1449, 965, 586, 540, 1088, 1263, 1250, 1361, 1039, 289, 611, 1146, 912, 883, 1061, 1345, 513, 548, 1430, 1287, 1406, 1355, 1251, 685, 327, 839, 1050, 1294, 1304, 1023, 348, 219, 475, 884, 668, 325, 168, 448, 566, 1180, 1301, 1022, 954, 786, 338, 294, 932, 1021, 1180, 955, 906, 471, 217, 1070, 994, 919, 1047, 894, 258, 202, 747, 862, 496, 526, 605, 263, 253, 304, 50, 430, 573, 631, 249, 375, 546, 344, 904, 890, 836, 403, 392, 968, 781, 697, 935, 804, 341, 335, 934, 1065, 970, 883, 810, 421, 467, 644, 984, 896, 1003, 925, 286, 358, 877, 910, 873, 974, 1092, 645, 477, 1174, 1030, 1016, 1115, 1119, 627, 735, 1076, 1082, 1050, 980, 1206, 573, 471, 758, 1333, 1142, 952, 670, 603, 605, 1077, 1253, 1163, 874, 924, 657, 989, 1464, 1205, 1049, 1068, 1409, 1372, 594, 1144, 994, 935, 1139, 1172, 595, 745, 1181, 1192, 767, 963, 928, 971, 766, 1599, 1563, 1353, 1384, 1681, 1365, 1275, 1654, 1685, 1739, 1016, 914, 429, 314, 1334, 1504, 1059, 1284, 1047, 486, 812, 1433, 1566, 1523, 1019, 700, 587, 559, 1920, 2003, 2287, 2185, 1784, 663, 664, 1376, 1757, 2615, 2535, 2297, 1666, 1658, 2594, 2653, 2558, 2378, 2586, 1388, 706, 1713, 2345, 1984, 2157, 2735, 1000, 1186, 2402, 1264, 1467, 1550, 1732, 938, 665, 385, 1744, 1618, 2022, 2296, 1268, 1568, 2186, 2655, 2572, 2349, 1884, 1174, 1183, 2215, 1883, 2038, 2011, 1690, 1436, 1316, 2153, 2266, 1853, 1221, 1528, 1526, 912, 1247, 1353, 1430, 1499, 2095, 1440, 1488, 2166, 2401, 2149, 1838, 1538, 1576, 1414, 2180, 2425, 2304, 2065, 1838, 1410, 1464, 2207, 2314, 2102, 2263, 1982, 1378, 1293, 2073, 2326, 2331, 2246, 1999, 1289, 1078, 2048, 2226, 2090, 1897, 1310, 1238, 1338, 2184, 2345, 2290, 2175, 1909, 985, 1269, 2039, 2229, 2134, 1689, 1886, 1142, 1264, 2012, 2195, 2169, 2128, 1725, 1061, 1091, 1633, 1963, 1751, 1230, 1714, 1204, 1263, 1278, 1475, 1893, 1178, 1145, 1013, 1288, 1907, 2112, 2250, 2070, 1603, 982, 561, 1511, 1659, 2009, 2248, 1684, 1074, 415, 1167, 1650, 1567, 1874, 1107, 273, 253, 1165, 1413, 1243, 1670, 1679, 1211, 1216, 1453, 1484, 1839, 1659, 1216, 672, 819, 1787, 1777, 1743, 1722, 1538, 624, 576, 1532, 1442, 1462, 1624, 1252, 727, 416, 1679, 1906, 1500, 1307, 1457, 344, 708, 1544, 1412, 1473, 853, 1361, 644, 505, 1298, 1228, 1578, 1318, 1029, 605, 539, 1066, 1166, 1445, 1275, 1236, 686, 644, 1335, 1317, 1169, 311, 523, 442, 383, 1199, 1125, 1099, 988, 861, 321, 243, 906, 967, 1094, 988, 878, 491, 436, 1288, 1138, 1079, 1063, 369, 310, 208, 709, 603, 221, 607, 556, 483, 388, 865, 710, 498, 931, 1079, 657, 665, 1155, 1071, 998, 1027, 964, 235, 370, 1279, 1419, 1400, 1351, 1218, 644, 444, 949, 1352, 1381, 1347, 1333, 800, 748, 1255, 1254, 998, 1104, 1048, 650, 600, 1138, 1042, 1257, 807, 822, 440, 105, 727, 1031, 1056, 1211, 906, 364, 274, 495, 749, 1092, 1120, 929, 343, 381, 804, 1321, 1510, 1444, 1468, 588, 244, 903, 1055, 954, 921, 1311, 380, 648, 1067, 1759, 1912, 1694, 1129, 634, 215, 1395, 1419, 1109, 1437, 1345, 794, 1075, 1843, 1031, 1167, 1239, 779, 313, 778, 1712, 1936, 1947, 1326, 1415, 569, 896, 2208, 1441, 1914, 2033, 1755, 1170, 1486, 2049, 1657, 1068, 883, 1462, 489, 908, 1740, 1250, 1465, 1270, 1688, 1048, 676, 1950, 2472, 2688, 3063, 2402, 626, 331, 1718, 2421, 2868, 1653, 1556, 967, 1300, 2727, 3080, 3035, 2657, 3143, 1116, 1089, 2380, 2843, 2666, 2473, 1308, 1124, 670, 1260, 2562, 2078, 2300, 2437, 1609, 1438, 2427, 2371, 2463, 2322, 2200, 1529, 1900, 2040, 2253, 2654, 2098, 1131, 955, 720, 1689, 2075, 2380, 2248, 1902, 1510, 1411, 2211, 2206, 2188, 1948, 1456, 923, 1262, 2403, 2646, 2313, 1864, 1545, 1004, 1577, 2254, 2609, 2591, 2478, 2186, 1244, 1264, 2216, 2476, 2482, 2310, 2099, 1059, 809, 2285, 2416, 993, 1516, 2100, 1488, 1419, 2431, 2606, 2485, 2405, 2052, 1136, 1330, 2299, 2392, 2367, 2261, 1901, 1289, 1380, 2110, 1889, 1613, 2009, 1490, 1218, 1293, 2214, 2435, 2061, 2176, 1873, 1303, 1281, 2479, 2727, 2501, 2208, 1546, 456, 951, 1256, 1804, 2164, 2478, 2122, 1267, 1204, 2151, 2282, 1695, 1916, 1986, 1190, 1142, 2614, 2247, 1861, 1616, 1893, 1154, 1165, 2116, 1901, 1117, 1504, 1336, 1259, 993, 1561, 2049, 2174, 2232, 2218, 1060, 1212, 2281, 2211, 2158, 2106, 1742, 648, 839, 1967, 1647, 1415, 2126, 1236, 795, 1254, 1314, 1331, 1113, 1192, 1208, 372, 507, 1453, 1143, 1491, 1226, 1006, 713, 591, 1284, 1425, 1219, 1153, 1252, 608, 444, 1473, 1218, 1258, 1244, 1206, 590, 530, 1524, 1404, 1260, 1208, 899, 550, 425, 1367, 1078, 1162, 295, 171, 169, 243, 944, 1037, 1019, 951, 944, 478, 628, 999, 1200, 1208, 422, 1181, 641, 677, 548, 1420, 587, 1229, 953, 216, 454, 1132, 730, 430, 253, 485, 281, 352, 821, 756, 713, 390, 643, 452, 165, 1145, 1731, 1817, 1651, 1326, 389, 448, 1698, 1757, 1617, 1213, 1306, 318, 249, 1049, 1588, 1602, 1368, 1114, 652, 1262, 2038, 1561, 1572, 1607, 1363, 663, 390, 1153, 1422, 1424, 1066, 954, 339, 840, 631, 1176, 1694, 1679, 1567, 794, 1001, 1180, 1839, 1854, 1366, 539, 898, 980, 1775, 1693, 1527, 1402, 519, 1089, 1003, 688, 1844, 1431, 1672, 1766, 1223, 1137, 786, 770, 571, 1065, 1839, 473, 132, 668, 657, 846, 1650, 1211, 725, 588, 1140, 1377, 1225, 2059, 1634, 986, 842, 2014, 563, 730, 1755, 1331, 1129, 934, 1731, 1800, 2077, 1873, 625, 707, 964, 1165, 1242, 1908, 2080, 1815, 1328, 1519, 2342, 1661, 1724, 1247, 1158, 876, 843, 2125, 1405, 1709, 1794, 2145, 1209, 1257, 2266, 1323, 2176, 2525, 2248, 1435, 1082, 1849, 1777, 1366, 1933, 2815, 888, 1095, 2410, 2428, 2293, 2415, 1835, 804, 949, 930, 2090, 2425, 2582, 2273, 1238, 1180, 1515, 1487, 1827, 2324, 2115, 1268, 1337, 2195, 2439, 2477, 2318, 1921, 1424, 1430, 2266, 2170, 2295, 2148, 1683, 1165, 1169, 2234, 2501, 2393, 2346, 1929, 1163, 1090, 2148, 2299, 2312, 1970, 1223, 1247, 1008, 1999, 2314, 2403, 2221, 1876, 1068, 1096, 1973, 2349, 2260, 2162, 1877, 1107, 1017, 2017, 2102, 2205, 2134, 1664, 731, 770, 1953, 2274, 2277, 2131, 1905, 1153, 953, 2068, 2283, 1971, 2090, 2000, 1026, 1195, 1891, 2211, 2143, 2133, 1025, 830, 1213, 2146, 2183, 2185, 1833, 1797, 1116, 1073, 1979, 2228, 2096, 2149, 1300, 365, 672, 1310, 1393, 1745, 1532, 1425, 826, 466, 1107, 1733, 2070, 1961, 1863, 1178, 648, 1615, 1795, 1782, 1160, 1461, 981, 712, 1824, 2190, 2270, 2086, 1314, 899, 895, 1907, 2097, 1992, 2022, 1477, 911, 1100, 1986, 1902, 1131, 1769, 1503, 301, 785, 1664, 1721, 1768, 1852, 1756, 717, 431, 1463, 1871, 1711, 1766, 1497, 632, 489, 1153, 1826, 1269, 1456, 999, 260, 522, 3024, 3304, 3432, 2927, 2499, 525, 681, 2299, 3357, 2629, 2575, 1612, 405, 833, 2403, 1788, 2927, 2937, 2520, 1119, 958, 2278, 1952, 2016, 532, 882, 798, 605, 2329, 1259, 1200, 910, 1113, 221, 236, 1013, 855, 1085, 881, 992, 225, 256, 1243, 1191, 1208, 821, 842, 442, 273, 616, 777, 602, 306, 150, 250, 100, 594, 744, 731, 536, 562, 733, 444, 1801, 2078, 2684, 2582, 2384, 960, 993, 2154, 1978, 1806, 2623, 1912, 574, 402, 1708, 2359, 2588, 1368, 2160, 418, 1052, 2968, 2168, 2350, 2093, 1989, 1027, 815, 1321, 1517, 1106, 1122, 1045, 481, 524, 1547, 1693, 1243, 1081, 929, 353, 287, 451, 1180, 1213, 1117, 752, 929, 345, 1308, 1626, 1445, 1638, 1186, 670, 387, 1211, 1859, 2532, 2495, 2255, 1700, 682, 2022, 2901, 2024, 2042, 2226, 696, 334, 2147, 2539, 3114, 3248, 2811, 1494, 541, 2048, 2611, 2336, 2669, 2691, 1805, 446, 3111, 3926, 4301, 4198, 1928, 1014, 1158, 1387, 1737, 2100, 2285, 1921, 1270, 838, 1554, 1231, 1387, 1622, 1402, 1217, 1193, 2271, 2435, 2391, 2159, 1367, 935, 249, 1509, 1993, 1899, 1849, 1427, 1177, 1323, 2778, 2599, 2023, 2435, 2405, 1536, 648, 2367, 2781, 2717, 2524, 2425, 850, 542, 1791, 2478, 2258, 1589, 2464, 365, 996, 1975, 2238, 2168, 1927, 1401, 581, 427, 1534, 2450, 4809, 4085, 4470, 2639, 2133, 4764, 5087, 4627, 3970, 3278, 1660, 2174, 3561, 3214, 4388, 4319, 3553, 1117, 2273, 4348, 4425, 4724, 2572, 2615, 2223, 2500, 4546, 4745, 4484, 4314, 3698, 2014, 1781, 2208, 3221, 4816, 3426, 3974, 2029, 2229, 4145, 4384, 4696, 4621, 3836, 2069, 2037, 3897, 4478, 4648, 4551, 2078, 2107, 2170, 4375, 4744, 4794, 4483, 3938, 2131, 2105, 1999, 1705, 2108, 2136, 1822, 951, 817, 1570, 1947, 2080, 2126, 1722, 947, 1163, 1996, 2162, 2096, 2065, 1636, 942, 874, 1900, 2125, 2061, 2011, 1766, 857, 775, 1985, 2017, 1625]\n",
      "[1761, 1767, 1590, 926, 951, 1708, 1742, 1587, 1468, 989, 351, 271, 1073, 1477, 1596, 1474, 1012, 482, 449, 1041, 1237, 1179, 1352, 1034, 242, 451, 1071, 823, 827, 1030, 1133, 439, 463, 1380, 1206, 1313, 1336, 1155, 584, 301, 792, 1037, 1306, 1216, 983, 292, 173, 492, 857, 702, 229, 187, 397, 452, 1178, 1246, 1012, 890, 804, 296, 233, 936, 990, 1120, 924, 910, 403, 205, 1092, 951, 929, 966, 815, 205, 149, 745, 840, 524, 551, 627, 230, 188, 270, 48, 415, 575, 626, 238, 320, 440, 334, 931, 913, 876, 316, 314, 925, 797, 650, 875, 766, 336, 224, 935, 1001, 980, 894, 775, 339, 334, 632, 981, 871, 952, 936, 258, 285, 831, 879, 887, 947, 1016, 488, 391, 1114, 982, 979, 1072, 1042, 487, 577, 1069, 1023, 1016, 904, 1098, 444, 398, 723, 1253, 1075, 939, 690, 523, 517, 1009, 1244, 1171, 885, 921, 576, 701, 1327, 1193, 992, 1082, 1330, 1058, 452, 1106, 986, 959, 1063, 1183, 468, 550, 1200, 1120, 740, 961, 934, 781, 619, 1560, 1452, 1264, 1322, 1526, 1132, 1088, 1594, 1602, 1747, 991, 928, 360, 263, 1355, 1396, 1054, 1215, 998, 360, 652, 1254, 1510, 1416, 953, 685, 445, 409, 1713, 1939, 2163, 1981, 1673, 551, 526, 1317, 1645, 2402, 2342, 2223, 1246, 1345, 2472, 2450, 2414, 2285, 2280, 1093, 557, 1654, 2230, 1912, 2117, 2048, 814, 950, 2247, 1217, 1393, 1473, 1641, 828, 526, 384, 1615, 1519, 1941, 2119, 972, 1108, 2106, 2466, 2466, 2290, 1792, 1005, 898, 2154, 1795, 1967, 1904, 1632, 1120, 986, 2099, 2260, 1802, 1250, 1482, 1617, 732, 1185, 1296, 1474, 1429, 2004, 1292, 1258, 2041, 2295, 2106, 1911, 1550, 1346, 1181, 2167, 2391, 2303, 2035, 1858, 1288, 1176, 2211, 2279, 2069, 2123, 1933, 1133, 1132, 2101, 2278, 2363, 2227, 1964, 1212, 902, 2040, 2314, 2032, 1822, 1269, 1019, 1128, 2128, 2257, 2266, 2100, 1924, 912, 1046, 1989, 2240, 2037, 1645, 1933, 1077, 1037, 2105, 2329, 2223, 2042, 1721, 969, 968, 1607, 1929, 1733, 1145, 1662, 1088, 1025, 1047, 1456, 1937, 1070, 1078, 867, 1043, 1986, 2133, 2161, 1975, 1629, 850, 463, 1554, 1625, 1900, 1870, 1650, 858, 381, 1090, 1556, 1535, 1739, 1042, 204, 237, 1094, 1317, 1169, 1581, 1535, 942, 954, 1487, 1406, 1748, 1513, 1118, 602, 696, 1618, 1687, 1597, 1529, 1412, 510, 536, 1474, 1720, 1622, 1391, 1183, 640, 362, 1649, 1446, 1454, 1266, 1355, 326, 613, 1514, 1377, 1445, 856, 1271, 549, 485, 1363, 1188, 1489, 1273, 1034, 516, 427, 1046, 1143, 1389, 1230, 1094, 524, 497, 1274, 1224, 1082, 271, 481, 423, 298, 1084, 1086, 979, 950, 833, 270, 230, 887, 903, 1042, 946, 891, 393, 319, 1212, 1094, 1092, 1012, 370, 210, 192, 708, 479, 150, 583, 510, 392, 296, 857, 709, 416, 934, 948, 515, 486, 1149, 1011, 950, 1093, 816, 188, 285, 1251, 1389, 1372, 1290, 1092, 491, 378, 925, 1328, 1311, 1302, 1188, 641, 681, 1244, 1212, 901, 1125, 987, 484, 495, 1152, 1049, 1331, 755, 750, 355, 116, 701, 993, 1083, 1178, 880, 294, 211, 533, 776, 1075, 1094, 960, 281, 310, 753, 1242, 1450, 1277, 1361, 401, 187, 817, 998, 920, 880, 1249, 346, 494, 1078, 1657, 1753, 1619, 1087, 543, 160, 1414, 1383, 1083, 1254, 1307, 710, 888, 1793, 1056, 1179, 1118, 746, 258, 542, 1724, 1855, 1725, 1297, 1402, 475, 647, 2111, 1365, 1914, 1907, 1680, 1015, 1161, 1957, 1549, 1065, 867, 1468, 417, 826, 1661, 1173, 1367, 1241, 1506, 1001, 726, 1808, 2331, 2479, 2874, 2206, 531, 289, 1583, 2215, 2587, 1577, 1480, 758, 1076, 2705, 3008, 2852, 2643, 2599, 925, 848, 2322, 2835, 2563, 2437, 1248, 1031, 564, 1029, 2470, 1930, 2287, 2432, 1278, 1163, 2487, 2299, 2400, 2353, 2182, 1278, 1647, 2088, 2277, 2542, 1979, 1135, 818, 547, 1672, 2032, 2270, 2164, 1888, 1694, 1303, 2266, 2136, 2344, 1909, 1415, 857, 1050, 2399, 2501, 2429, 1895, 1739, 972, 1305, 2202, 2606, 2544, 2322, 1982, 1236, 1034, 2195, 2465, 2527, 2225, 2036, 1061, 726, 2240, 2362, 996, 1486, 1972, 1222, 1208, 2365, 2642, 2574, 2430, 2054, 974, 1187, 2391, 2427, 2411, 2292, 2055, 1140, 1170, 2215, 1878, 1673, 2020, 1632, 1166, 1153, 2422, 2499, 2128, 2148, 1962, 1127, 1138, 2504, 2824, 2545, 2201, 1642, 403, 869, 1100, 1689, 1957, 2462, 2065, 1133, 1010, 1658, 1706, 2320, 2126, 1917, 1177, 1039, 1836, 2091, 1864, 1656, 1841, 1071, 1052, 1670, 1515, 1049, 1458, 1175, 1066, 825, 1474, 1513, 1663, 1664, 1491, 880, 950, 1793, 1653, 1622, 1557, 1215, 483, 720, 1388, 1550, 1140, 1503, 973, 583, 994, 1544, 1633, 974, 1189, 1570, 368, 409, 1877, 1118, 1905, 1166, 932, 581, 481, 1219, 1365, 1553, 1095, 1826, 1246, 308, 1781, 1573, 1484, 1372, 971, 493, 474, 1174, 1429, 1575, 1517, 859, 504, 362, 1051, 873, 1077, 205, 153, 176, 250, 865, 1102, 1275, 1145, 984, 424, 566, 1390, 919, 749, 1199, 1120, 562, 555, 1735, 1004, 1392, 712, 917, 188, 390, 1124, 670, 383, 198, 514, 262, 292, 820, 744, 618, 321, 571, 365, 174, 678, 994, 1008, 959, 1164, 382, 362, 972, 1009, 1006, 685, 836, 274, 222, 933, 1339, 950, 815, 663, 511, 893, 1121, 1002, 1391, 1454, 1249, 573, 318, 751, 912, 827, 628, 657, 290, 682, 1473, 1340, 1114, 1018, 892, 671, 835, 1031, 1080, 1073, 855, 1478, 753, 840, 1106, 1373, 869, 854, 1219, 929, 769, 1886, 1101, 1398, 1077, 1036, 1058, 969, 2047, 2085, 1479, 1849, 1130, 402, 107, 1956, 1642, 2027, 1060, 803, 654, 469, 889, 873, 815, 1437, 1381, 810, 566, 1325, 1459, 1697, 1073, 1280, 858, 795, 1224, 1248, 1274, 1797, 1594, 557, 737, 993, 1182, 1789, 1922, 1639, 1073, 1256, 2214, 1582, 1627, 1211, 1118, 740, 723, 2015, 1340, 1728, 1814, 2079, 1006, 978, 2254, 1282, 2055, 2391, 2204, 1318, 876, 1827, 1876, 1341, 1878, 2238, 767, 916, 2435, 2444, 2287, 2353, 1833, 776, 827, 807, 2164, 2346, 2560, 2275, 1070, 1071, 1474, 1591, 1831, 2313, 2218, 1207, 1150, 2280, 2496, 2500, 2401, 1848, 1264, 1126, 2315, 2381, 2416, 2136, 1734, 1158, 1001, 2222, 2497, 2332, 2363, 1940, 1047, 1011, 2033, 2356, 2339, 1967, 1090, 1196, 911, 2067, 2321, 2358, 2258, 1896, 985, 941, 2096, 2446, 2426, 2262, 1936, 1088, 946, 2196, 2166, 2443, 2225, 1964, 653, 682, 2149, 2441, 2457, 2248, 1982, 1066, 930, 2175, 2372, 2137, 2205, 2100, 988, 1750, 2007, 2319, 2260, 2295, 1037, 872, 1120, 2173, 2325, 2363, 2013, 1809, 974, 943, 2093, 2245, 2235, 2187, 1353, 334, 541, 1513, 1483, 1867, 1627, 1512, 770, 425, 898, 1932, 2243, 2069, 1898, 1013, 679, 1669, 1862, 1949, 1293, 1539, 853, 591, 1981, 2361, 2292, 2235, 1370, 869, 676, 1955, 2239, 2063, 2079, 1540, 828, 875, 2067, 1983, 1228, 1819, 1616, 238, 663, 1754, 1739, 1838, 1921, 1709, 628, 406, 1558, 1924, 1781, 1840, 1590, 556, 413, 1212, 1929, 1305, 1551, 991, 234, 267, 1472, 1606, 1714, 1445, 1213, 260, 363, 1091, 1608, 1258, 1265, 779, 207, 463, 1161, 883, 1431, 1420, 1217, 617, 525, 1096, 905, 972, 259, 461, 439, 293, 1132, 1339, 1315, 974, 1155, 187, 244, 1028, 901, 1135, 960, 1065, 222, 234, 1278, 1239, 1228, 837, 866, 366, 239, 659, 858, 617, 286, 114, 238, 102, 612, 764, 729, 529, 316, 396, 231, 860, 974, 1340, 1280, 1195, 517, 562, 1050, 961, 856, 1316, 941, 290, 186, 864, 1130, 1233, 674, 1055, 197, 605, 1511, 1042, 1147, 975, 985, 558, 431, 1406, 1617, 1181, 1199, 1056, 403, 486, 1613, 1762, 1252, 1172, 991, 320, 319, 526, 1289, 1229, 1216, 815, 763, 326, 1461, 1660, 1537, 1684, 1209, 587, 277, 1318, 887, 1253, 1203, 1095, 884, 384, 966, 1417, 977, 962, 1114, 367, 170, 1054, 1251, 1516, 1621, 1388, 815, 277, 947, 1262, 1080, 1340, 1280, 927, 236, 1518, 1924, 2158, 2104, 1988, 954, 969, 1417, 1807, 2120, 2298, 1962, 1077, 765, 1671, 1272, 1551, 1619, 1466, 1064, 1030, 2407, 2442, 2395, 2117, 1351, 736, 214, 1420, 2125, 1894, 2021, 1514, 1068, 1165, 2878, 2714, 2066, 2523, 2312, 1234, 530, 2485, 2768, 2777, 2635, 2540, 747, 498, 2012, 2687, 2297, 1670, 2247, 376, 962, 2232, 2413, 2335, 2043, 1462, 604, 472, 1431, 2449, 2354, 1931, 2181, 1361, 1132, 2263, 2428, 2235, 1885, 1550, 901, 1078, 1644, 1511, 2073, 2044, 1679, 531, 1131, 2053, 2090, 2213, 1223, 1180, 1170, 1243, 2127, 2197, 2113, 2030, 1770, 1073, 824, 1058, 1524, 2306, 1563, 1683, 1025, 1188, 1893, 2074, 2242, 2203, 1772, 1026, 1025, 1825, 2163, 2220, 2120, 975, 1067, 1136, 2033, 2239, 2208, 2137, 1848, 1059, 1094, 2250, 1852, 2413, 2387, 2033, 1027, 787, 1943, 2214, 2430, 2443, 2151, 944, 1439, 2370, 2508, 2515, 2376, 2088, 1009, 870, 2392, 2560, 2562, 2371, 2130, 876, 760, 2338, 2375, 1981]\n"
     ]
    }
   ],
   "source": [
    "# data Processing - Cleaning up and splitting the data into two lists, east and east westbound\n",
    "# this allows for further statistical analysis on cleaned up lists\n",
    "# dividing the data into west and east lists allows for more analysis and opportunities for interesting trends\n",
    "#remove the first element (column header) - basically data number 0\n",
    "del big_fremont[0];\n",
    "# using delete function\n",
    "# creating empty lists for westbound and eastbound bike traffic\n",
    "big_west = [];\n",
    "big_east = [];    \n",
    "for jj in range(len(big_fremont)):\n",
    "    # make into a list of lists of just numbers\n",
    "    # another for loop with a jj loop counter\n",
    "    # remember that len is the \"length\" of a data set\n",
    "    big_fremont[jj] = big_fremont[jj].split(\",\");\n",
    "    #add data to specific lists for west and east\n",
    "    big_west.append(int(big_fremont[jj][1]));\n",
    "    big_east.append(int(big_fremont[jj][2]));\n",
    "    # append means an addition or attachment\n",
    "\n",
    "print(big_west);\n",
    "print(big_east)\n",
    "# now that the data has been inputted, the data can be printed into tidy lists"
   ]
  },
  {
   "cell_type": "code",
   "execution_count": 81,
   "metadata": {
    "scrolled": true
   },
   "outputs": [
    {
     "name": "stdout",
     "output_type": "stream",
     "text": [
      "Mondays westbound: [1760, 1648, 1647, 1250, 883, 1406, 1294, 668, 1022, 1180, 919, 496, 430, 904, 697, 970, 896, 873, 1016, 1050, 1142, 1163, 1049, 935, 767, 1353, 1739, 1059, 1523, 2287, 2615, 2558, 1984, 1467, 1618, 2572, 2038, 1853, 1430, 2149, 2304, 2102, 2331, 2090, 2290, 2134, 2169, 1751, 1893, 2250, 2009, 1567, 1243, 1839, 1743, 1462, 1500, 1473, 1578, 1445, 1169, 1099, 1094, 1079, 221, 498, 998, 1400, 1381, 998, 1257, 1056, 1092, 1510, 954, 1912, 1109, 1167, 1947, 1914, 1068, 1465, 2688, 2868, 3035, 2666, 2078, 2463, 2654, 2380, 2188, 2313, 2591, 2482, 993, 2485, 2367, 1613, 2061, 2501, 2164, 1695, 1861, 1117, 2174, 2158, 1415, 1113, 1491, 1219, 1258, 1260, 1162, 1019, 1208, 587, 430, 713, 1817, 1617, 1602, 1572, 1424, 1694, 1854, 1527, 1431, 571, 846, 1225, 730, 2077, 1908, 1724, 1709, 2176, 1366, 2293, 2425, 1827, 2477, 2295, 2393, 2312, 2403, 2260, 2205, 2277, 1971, 2143, 2185, 2096, 1745, 2070, 1782, 2270, 1992, 1131, 1768, 1711, 1269, 3432, 2629, 2927, 2016, 1200, 1085, 1208, 602, 731, 2684, 1806, 2588, 2350, 1106, 1243, 1213, 1445, 2532, 2024, 3114, 2336, 4301, 2100, 1387, 2391, 1899, 2023, 2717, 2258, 2168, 4809, 4627, 4388, 4724, 4484, 4816, 4696, 4648, 4794, 2108, 2080, 2096, 2061, 1625] Tuesdays westbound: [1708, 1579, 1449, 1361, 1061, 1355, 1304, 325, 954, 955, 1047, 526, 573, 890, 935, 883, 1003, 974, 1115, 980, 952, 874, 1068, 1139, 963, 1384, 1016, 1284, 1019, 2185, 2535, 2378, 2157, 1550, 2022, 2349, 2011, 1221, 1499, 1838, 2065, 2263, 2246, 1897, 2175, 1689, 2128, 1230, 1178, 2070, 2248, 1874, 1670, 1659, 1722, 1624, 1307, 853, 1318, 1275, 311, 988, 988, 1063, 607, 931, 1027, 1351, 1347, 1104, 807, 1211, 1120, 1444, 921, 1694, 1437, 1239, 1326, 2033, 883, 1270, 3063, 1653, 2657, 2473, 2300, 2322, 2098, 2248, 1948, 1864, 2478, 2310, 1516, 2405, 2261, 2009, 2176, 2208, 2478, 1916, 1616, 1504, 2232, 2106, 2126, 1192, 1226, 1153, 1244, 1208, 295, 951, 422, 1229, 253, 390, 1651, 1213, 1368, 1607, 1066, 1679, 1366, 1402, 1672, 1065, 1650, 2059, 1755, 1873, 2080, 1247, 1794, 2525, 1933, 2415, 2582, 2324, 2318, 2148, 2346, 1970, 2221, 2162, 2134, 2131, 2090, 2133, 1833, 2149, 1532, 1961, 1160, 2086, 2022, 1769, 1852, 1766, 1456, 2927, 2575, 2937, 532, 910, 881, 821, 306, 536, 2582, 2623, 1368, 2093, 1122, 1081, 1117, 1638, 2495, 2042, 3248, 2669, 4198, 2285, 1622, 2159, 1849, 2435, 2524, 1589, 1927, 4085, 3970, 4319, 2572, 4314, 3426, 4621, 4551, 4483, 2136, 2126, 2065, 2011] Wednesdays westbound: [1558, 1022, 965, 1039, 1345, 1251, 1023, 168, 786, 906, 894, 605, 631, 836, 804, 810, 925, 1092, 1119, 1206, 670, 924, 1409, 1172, 928, 1681, 914, 1047, 700, 1784, 2297, 2586, 2735, 1732, 2296, 1884, 1690, 1528, 2095, 1538, 1838, 1982, 1999, 1310, 1909, 1886, 1725, 1714, 1145, 1603, 1684, 1107, 1679, 1216, 1538, 1252, 1457, 1361, 1029, 1236, 523, 861, 878, 369, 556, 1079, 964, 1218, 1333, 1048, 822, 906, 929, 1468, 1311, 1129, 1345, 779, 1415, 1755, 1462, 1688, 2402, 1556, 3143, 1308, 2437, 2200, 1131, 1902, 1456, 1545, 2186, 2099, 2100, 2052, 1901, 1490, 1873, 1546, 2122, 1986, 1893, 1336, 2218, 1742, 1236, 1208, 1006, 1252, 1206, 899, 171, 944, 1181, 953, 485, 643, 1326, 1306, 1114, 1363, 954, 1567, 539, 519, 1766, 1839, 1211, 1634, 1331, 625, 1815, 1158, 2145, 2248, 2815, 1835, 2273, 2115, 1921, 1683, 1929, 1223, 1876, 1877, 1664, 1905, 2000, 1025, 1797, 1300, 1425, 1863, 1461, 1314, 1477, 1503, 1756, 1497, 999, 2499, 1612, 2520, 882, 1113, 992, 842, 150, 562, 2384, 1912, 2160, 1989, 1045, 929, 752, 1186, 2255, 2226, 2811, 2691, 1928, 1921, 1402, 1367, 1427, 2405, 2425, 2464, 1401, 4470, 3278, 3553, 2615, 3698, 3974, 3836, 2078, 3938, 1822, 1722, 1636, 1766] Thursdays westbound: [1191, 427, 540, 611, 548, 327, 219, 566, 294, 217, 202, 253, 375, 392, 335, 467, 358, 477, 735, 471, 605, 989, 594, 745, 766, 1275, 314, 812, 559, 664, 1658, 706, 1186, 665, 1568, 1183, 1316, 912, 1488, 1414, 1464, 1293, 1078, 1338, 1269, 1264, 1091, 1263, 1288, 561, 415, 253, 1216, 819, 576, 416, 708, 505, 539, 644, 383, 243, 436, 208, 388, 665, 370, 444, 748, 600, 105, 274, 381, 244, 648, 215, 1075, 778, 896, 1486, 908, 676, 331, 1300, 1089, 670, 1438, 1900, 720, 1411, 1262, 1577, 1264, 809, 1419, 1330, 1380, 1293, 1281, 951, 1204, 1142, 1165, 993, 1212, 839, 1254, 507, 591, 444, 530, 425, 243, 628, 677, 454, 352, 165, 448, 249, 1262, 390, 840, 1001, 980, 1003, 1137, 132, 588, 842, 934, 964, 1519, 843, 1257, 1082, 1095, 949, 1180, 1337, 1430, 1169, 1090, 1008, 1096, 1017, 770, 953, 1195, 1213, 1073, 672, 466, 648, 712, 895, 1100, 785, 431, 489, 522, 681, 833, 958, 605, 236, 256, 273, 100, 444, 993, 402, 1052, 815, 524, 287, 345, 387, 682, 334, 541, 446, 1158, 838, 1193, 249, 1323, 648, 542, 996, 427, 2133, 2174, 2273, 2500, 1781, 2229, 2037, 2170, 2105, 817, 1163, 874, 775] Fridays westbound: [1829, 1200, 1088, 1146, 1430, 839, 475, 1180, 932, 1070, 747, 304, 546, 968, 934, 644, 877, 1174, 1076, 758, 1077, 1464, 1144, 1181, 1599, 1654, 1334, 1433, 1920, 1376, 2594, 1713, 2402, 385, 2186, 2215, 2153, 1247, 2166, 2180, 2207, 2073, 2048, 2184, 2039, 2012, 1633, 1278, 1907, 1511, 1167, 1165, 1453, 1787, 1532, 1679, 1544, 1298, 1066, 1335, 1199, 906, 1288, 709, 865, 1155, 1279, 949, 1255, 1138, 727, 495, 804, 903, 1067, 1395, 1843, 1712, 2208, 2049, 1740, 1950, 1718, 2727, 2380, 1260, 2427, 2040, 1689, 2211, 2403, 2254, 2216, 2285, 2431, 2299, 2110, 2214, 2479, 1256, 2151, 2614, 2116, 1561, 2281, 1967, 1314, 1453, 1284, 1473, 1524, 1367, 944, 999, 548, 1132, 821, 1145, 1698, 1049, 2038, 1153, 631, 1180, 1775, 688, 786, 668, 1140, 2014, 1731, 1165, 2342, 2125, 2266, 1849, 2410, 930, 1515, 2195, 2266, 2234, 2148, 1999, 1973, 2017, 1953, 2068, 1891, 2146, 1979, 1310, 1107, 1615, 1824, 1907, 1986, 1664, 1463, 1153, 3024, 2299, 2403, 2278, 2329, 1013, 1243, 616, 594, 1801, 2154, 1708, 2968, 1321, 1547, 451, 1308, 1211, 2022, 2147, 2048, 3111, 1387, 1554, 2271, 1509, 2778, 2367, 1791, 1975, 1534, 4764, 3561, 4348, 4546, 2208, 4145, 3897, 4375, 1999, 1570, 1996, 1900, 1985] Saturdays westbound: [1759, 1559, 1263, 912, 1287, 1050, 884, 1301, 1021, 994, 862, 50, 344, 781, 1065, 984, 910, 1030, 1082, 1333, 1253, 1205, 994, 1192, 1563, 1685, 1504, 1566, 2003, 1757, 2653, 2345, 1264, 1744, 2655, 1883, 2266, 1353, 2401, 2425, 2314, 2326, 2226, 2345, 2229, 2195, 1963, 1475, 2112, 1659, 1650, 1413, 1484, 1777, 1442, 1906, 1412, 1228, 1166, 1317, 1125, 967, 1138, 603, 710, 1071, 1419, 1352, 1254, 1042, 1031, 749, 1321, 1055, 1759, 1419, 1031, 1936, 1441, 1657, 1250, 2472, 2421, 3080, 2843, 2562, 2371, 2253, 2075, 2206, 2646, 2609, 2476, 2416, 2606, 2392, 1889, 2435, 2727, 1804, 2282, 2247, 1901, 2049, 2211, 1647, 1331, 1143, 1425, 1218, 1404, 1078, 1037, 1200, 1420, 730, 756, 1731, 1757, 1588, 1561, 1422, 1176, 1839, 1693, 1844, 770, 657, 1377, 563, 1800, 1242, 1661, 1405, 1323, 1777, 2428, 2090, 1487, 2439, 2170, 2501, 2299, 2314, 2349, 2102, 2274, 2283, 2211, 2183, 2228, 1393, 1733, 1795, 2190, 2097, 1902, 1721, 1871, 1826, 3304, 3357, 1788, 1952, 1259, 855, 1191, 777, 744, 2078, 1978, 2359, 2168, 1517, 1693, 1180, 1626, 1859, 2901, 2539, 2611, 3926, 1737, 1231, 2435, 1993, 2599, 2781, 2478, 2238, 2450, 5087, 3214, 4425, 4745, 3221, 4384, 4478, 4744, 1705, 1947, 2162, 2125, 2017] Sundays westbound: [1648, 1647, 1250, 883, 1406, 1294, 668, 1022, 1180, 919, 496, 430, 904, 697, 970, 896, 873, 1016, 1050, 1142, 1163, 1049, 935, 767, 1353, 1739, 1059, 1523, 2287, 2615, 2558, 1984, 1467, 1618, 2572, 2038, 1853, 1430, 2149, 2304, 2102, 2331, 2090, 2290, 2134, 2169, 1751, 1893, 2250, 2009, 1567, 1243, 1839, 1743, 1462, 1500, 1473, 1578, 1445, 1169, 1099, 1094, 1079, 221, 498, 998, 1400, 1381, 998, 1257, 1056, 1092, 1510, 954, 1912, 1109, 1167, 1947, 1914, 1068, 1465, 2688, 2868, 3035, 2666, 2078, 2463, 2654, 2380, 2188, 2313, 2591, 2482, 993, 2485, 2367, 1613, 2061, 2501, 2164, 1695, 1861, 1117, 2174, 2158, 1415, 1113, 1491, 1219, 1258, 1260, 1162, 1019, 1208, 587, 430, 713, 1817, 1617, 1602, 1572, 1424, 1694, 1854, 1527, 1431, 571, 846, 1225, 730, 2077, 1908, 1724, 1709, 2176, 1366, 2293, 2425, 1827, 2477, 2295, 2393, 2312, 2403, 2260, 2205, 2277, 1971, 2143, 2185, 2096, 1745, 2070, 1782, 2270, 1992, 1131, 1768, 1711, 1269, 3432, 2629, 2927, 2016, 1200, 1085, 1208, 602, 731, 2684, 1806, 2588, 2350, 1106, 1243, 1213, 1445, 2532, 2024, 3114, 2336, 4301, 2100, 1387, 2391, 1899, 2023, 2717, 2258, 2168, 4809, 4627, 4388, 4724, 4484, 4816, 4696, 4648, 4794, 2108, 2080, 2096, 2061, 1625]\n",
      "Mondays eastbound: [1761, 1587, 1596, 1179, 827, 1313, 1306, 702, 1012, 1120, 929, 524, 415, 931, 650, 980, 871, 887, 979, 1016, 1075, 1171, 992, 959, 740, 1264, 1747, 1054, 1416, 2163, 2402, 2414, 1912, 1393, 1519, 2466, 1967, 1802, 1474, 2106, 2303, 2069, 2363, 2032, 2266, 2037, 2223, 1733, 1937, 2161, 1900, 1535, 1169, 1748, 1597, 1622, 1454, 1445, 1489, 1389, 1082, 979, 1042, 1092, 150, 416, 950, 1372, 1311, 901, 1331, 1083, 1075, 1450, 920, 1753, 1083, 1179, 1725, 1914, 1065, 1367, 2479, 2587, 2852, 2563, 1930, 2400, 2542, 2270, 2344, 2429, 2544, 2527, 996, 2574, 2411, 1673, 2128, 2545, 1957, 2320, 1864, 1049, 1663, 1622, 1140, 974, 1905, 1553, 1484, 1575, 1077, 1275, 749, 1392, 383, 618, 1008, 1006, 950, 1391, 827, 1114, 1073, 869, 1398, 1479, 2027, 815, 1697, 1274, 1789, 1627, 1728, 2055, 1341, 2287, 2346, 1831, 2500, 2416, 2332, 2339, 2358, 2426, 2443, 2457, 2137, 2260, 2363, 2235, 1867, 2243, 1949, 2292, 2063, 1228, 1838, 1781, 1305, 1714, 1258, 1431, 972, 1315, 1135, 1228, 617, 729, 1340, 856, 1233, 1147, 1181, 1252, 1229, 1537, 1253, 977, 1516, 1080, 2158, 2120, 1551, 2395, 1894, 2066, 2777, 2297, 2335, 2354, 2235, 2073, 2213, 2113, 2306, 2242, 2220, 2208, 2413, 2430, 2515, 2562, 1981] Tuesdays eastbound: [1767, 1468, 1474, 1352, 1030, 1336, 1216, 229, 890, 924, 966, 551, 575, 913, 875, 894, 952, 947, 1072, 904, 939, 885, 1082, 1063, 961, 1322, 991, 1215, 953, 1981, 2342, 2285, 2117, 1473, 1941, 2290, 1904, 1250, 1429, 1911, 2035, 2123, 2227, 1822, 2100, 1645, 2042, 1145, 1070, 1975, 1870, 1739, 1581, 1513, 1529, 1391, 1266, 856, 1273, 1230, 271, 950, 946, 1012, 583, 934, 1093, 1290, 1302, 1125, 755, 1178, 1094, 1277, 880, 1619, 1254, 1118, 1297, 1907, 867, 1241, 2874, 1577, 2643, 2437, 2287, 2353, 1979, 2164, 1909, 1895, 2322, 2225, 1486, 2430, 2292, 2020, 2148, 2201, 2462, 2126, 1656, 1458, 1664, 1557, 1503, 1189, 1166, 1095, 1372, 1517, 205, 1145, 1199, 712, 198, 321, 959, 685, 815, 1454, 628, 1018, 855, 854, 1077, 1849, 1060, 1437, 1073, 1797, 1922, 1211, 1814, 2391, 1878, 2353, 2560, 2313, 2401, 2136, 2363, 1967, 2258, 2262, 2225, 2248, 2205, 2295, 2013, 2187, 1627, 2069, 1293, 2235, 2079, 1819, 1921, 1840, 1551, 1445, 1265, 1420, 259, 974, 960, 837, 286, 529, 1280, 1316, 674, 975, 1199, 1172, 1216, 1684, 1203, 962, 1621, 1340, 2104, 2298, 1619, 2117, 2021, 2523, 2635, 1670, 2043, 1931, 1885, 2044, 1223, 2030, 1563, 2203, 2120, 2137, 2387, 2443, 2376, 2371] Wednesdays eastbound: [1590, 989, 1012, 1034, 1133, 1155, 983, 187, 804, 910, 815, 627, 626, 876, 766, 775, 936, 1016, 1042, 1098, 690, 921, 1330, 1183, 934, 1526, 928, 998, 685, 1673, 2223, 2280, 2048, 1641, 2119, 1792, 1632, 1482, 2004, 1550, 1858, 1933, 1964, 1269, 1924, 1933, 1721, 1662, 1078, 1629, 1650, 1042, 1535, 1118, 1412, 1183, 1355, 1271, 1034, 1094, 481, 833, 891, 370, 510, 948, 816, 1092, 1188, 987, 750, 880, 960, 1361, 1249, 1087, 1307, 746, 1402, 1680, 1468, 1506, 2206, 1480, 2599, 1248, 2432, 2182, 1135, 1888, 1415, 1739, 1982, 2036, 1972, 2054, 2055, 1632, 1962, 1642, 2065, 1917, 1841, 1175, 1491, 1215, 973, 1570, 932, 1826, 971, 859, 153, 984, 1120, 917, 514, 571, 1164, 836, 663, 1249, 657, 892, 1478, 1219, 1036, 1130, 803, 1381, 1280, 1594, 1639, 1118, 2079, 2204, 2238, 1833, 2275, 2218, 1848, 1734, 1940, 1090, 1896, 1936, 1964, 1982, 2100, 1037, 1809, 1353, 1512, 1898, 1539, 1370, 1540, 1616, 1709, 1590, 991, 1213, 779, 1217, 461, 1155, 1065, 866, 114, 316, 1195, 941, 1055, 985, 1056, 991, 815, 1209, 1095, 1114, 1388, 1280, 1988, 1962, 1466, 1351, 1514, 2312, 2540, 2247, 1462, 2181, 1550, 1679, 1180, 1770, 1683, 1772, 975, 1848, 2033, 2151, 2088, 2130] Thursdays eastbound: [951, 271, 449, 451, 463, 301, 173, 452, 233, 205, 149, 188, 320, 314, 224, 334, 285, 391, 577, 398, 517, 701, 452, 550, 619, 1088, 263, 652, 409, 526, 1345, 557, 950, 526, 1108, 898, 986, 732, 1258, 1181, 1176, 1132, 902, 1128, 1046, 1037, 968, 1025, 1043, 463, 381, 237, 954, 696, 536, 362, 613, 485, 427, 497, 298, 230, 319, 192, 296, 486, 285, 378, 681, 495, 116, 211, 310, 187, 494, 160, 888, 542, 647, 1161, 826, 726, 289, 1076, 848, 564, 1163, 1647, 547, 1303, 1050, 1305, 1034, 726, 1208, 1187, 1170, 1153, 1138, 869, 1010, 1039, 1052, 825, 950, 720, 994, 409, 481, 308, 474, 362, 250, 566, 555, 390, 292, 174, 362, 222, 893, 318, 682, 835, 840, 769, 969, 107, 469, 566, 795, 737, 1256, 723, 978, 876, 916, 827, 1071, 1150, 1126, 1001, 1011, 911, 941, 946, 682, 930, 1750, 1120, 943, 541, 425, 679, 591, 676, 875, 663, 406, 413, 267, 363, 463, 525, 293, 244, 234, 239, 102, 231, 562, 186, 605, 431, 486, 319, 326, 277, 384, 170, 277, 236, 969, 765, 1030, 214, 1165, 530, 498, 962, 472, 1132, 1078, 1131, 1243, 824, 1188, 1025, 1136, 1094, 787, 1439, 870, 760] Fridays eastbound: [1708, 1073, 1041, 1071, 1380, 792, 492, 1178, 936, 1092, 745, 270, 440, 925, 935, 632, 831, 1114, 1069, 723, 1009, 1327, 1106, 1200, 1560, 1594, 1355, 1254, 1713, 1317, 2472, 1654, 2247, 384, 2106, 2154, 2099, 1185, 2041, 2167, 2211, 2101, 2040, 2128, 1989, 2105, 1607, 1047, 1986, 1554, 1090, 1094, 1487, 1618, 1474, 1649, 1514, 1363, 1046, 1274, 1084, 887, 1212, 708, 857, 1149, 1251, 925, 1244, 1152, 701, 533, 753, 817, 1078, 1414, 1793, 1724, 2111, 1957, 1661, 1808, 1583, 2705, 2322, 1029, 2487, 2088, 1672, 2266, 2399, 2202, 2195, 2240, 2365, 2391, 2215, 2422, 2504, 1100, 1658, 1836, 1670, 1474, 1793, 1388, 1544, 1877, 1219, 1781, 1174, 1051, 865, 1390, 1735, 1124, 820, 678, 972, 933, 1121, 751, 1473, 1031, 1106, 1886, 2047, 1956, 889, 1325, 1224, 993, 2214, 2015, 2254, 1827, 2435, 807, 1474, 2280, 2315, 2222, 2033, 2067, 2096, 2196, 2149, 2175, 2007, 2173, 2093, 1513, 898, 1669, 1981, 1955, 2067, 1754, 1558, 1212, 1472, 1091, 1161, 1096, 1132, 1028, 1278, 659, 612, 860, 1050, 864, 1511, 1406, 1613, 526, 1461, 1318, 966, 1054, 947, 1518, 1417, 1671, 2407, 1420, 2878, 2485, 2012, 2232, 1431, 2263, 1644, 2053, 2127, 1058, 1893, 1825, 2033, 2250, 1943, 2370, 2392, 2338] Saturdays eastbound: [1742, 1477, 1237, 823, 1206, 1037, 857, 1246, 990, 951, 840, 48, 334, 797, 1001, 981, 879, 982, 1023, 1253, 1244, 1193, 986, 1120, 1452, 1602, 1396, 1510, 1939, 1645, 2450, 2230, 1217, 1615, 2466, 1795, 2260, 1296, 2295, 2391, 2279, 2278, 2314, 2257, 2240, 2329, 1929, 1456, 2133, 1625, 1556, 1317, 1406, 1687, 1720, 1446, 1377, 1188, 1143, 1224, 1086, 903, 1094, 479, 709, 1011, 1389, 1328, 1212, 1049, 993, 776, 1242, 998, 1657, 1383, 1056, 1855, 1365, 1549, 1173, 2331, 2215, 3008, 2835, 2470, 2299, 2277, 2032, 2136, 2501, 2606, 2465, 2362, 2642, 2427, 1878, 2499, 2824, 1689, 1706, 2091, 1515, 1513, 1653, 1550, 1633, 1118, 1365, 1573, 1429, 873, 1102, 919, 1004, 670, 744, 994, 1009, 1339, 1002, 912, 1340, 1080, 1373, 1101, 2085, 1642, 873, 1459, 1248, 1182, 1582, 1340, 1282, 1876, 2444, 2164, 1591, 2496, 2381, 2497, 2356, 2321, 2446, 2166, 2441, 2372, 2319, 2325, 2245, 1483, 1932, 1862, 2361, 2239, 1983, 1739, 1924, 1929, 1606, 1608, 883, 905, 1339, 901, 1239, 858, 764, 974, 961, 1130, 1042, 1617, 1762, 1289, 1660, 887, 1417, 1251, 1262, 1924, 1807, 1272, 2442, 2125, 2714, 2768, 2687, 2413, 2449, 2428, 1511, 2090, 2197, 1524, 2074, 2163, 2239, 1852, 2214, 2508, 2560, 2375] Sundays eastbound: [1587, 1596, 1179, 827, 1313, 1306, 702, 1012, 1120, 929, 524, 415, 931, 650, 980, 871, 887, 979, 1016, 1075, 1171, 992, 959, 740, 1264, 1747, 1054, 1416, 2163, 2402, 2414, 1912, 1393, 1519, 2466, 1967, 1802, 1474, 2106, 2303, 2069, 2363, 2032, 2266, 2037, 2223, 1733, 1937, 2161, 1900, 1535, 1169, 1748, 1597, 1622, 1454, 1445, 1489, 1389, 1082, 979, 1042, 1092, 150, 416, 950, 1372, 1311, 901, 1331, 1083, 1075, 1450, 920, 1753, 1083, 1179, 1725, 1914, 1065, 1367, 2479, 2587, 2852, 2563, 1930, 2400, 2542, 2270, 2344, 2429, 2544, 2527, 996, 2574, 2411, 1673, 2128, 2545, 1957, 2320, 1864, 1049, 1663, 1622, 1140, 974, 1905, 1553, 1484, 1575, 1077, 1275, 749, 1392, 383, 618, 1008, 1006, 950, 1391, 827, 1114, 1073, 869, 1398, 1479, 2027, 815, 1697, 1274, 1789, 1627, 1728, 2055, 1341, 2287, 2346, 1831, 2500, 2416, 2332, 2339, 2358, 2426, 2443, 2457, 2137, 2260, 2363, 2235, 1867, 2243, 1949, 2292, 2063, 1228, 1838, 1781, 1305, 1714, 1258, 1431, 972, 1315, 1135, 1228, 617, 729, 1340, 856, 1233, 1147, 1181, 1252, 1229, 1537, 1253, 977, 1516, 1080, 2158, 2120, 1551, 2395, 1894, 2066, 2777, 2297, 2335, 2354, 2235, 2073, 2213, 2113, 2306, 2242, 2220, 2208, 2413, 2430, 2515, 2562, 1981]\n"
     ]
    }
   ],
   "source": [
    "# now I'm going to split the data up even further\n",
    "# I'm going to divide each data set (west and east) into smaller lists\n",
    "# I want to examine the data for each day of the week\n",
    "# that's why I will create lists called mon, tue, wed, thu, fri, sat, sun\n",
    "# the first set will be west and then I'll break up east\n",
    "big_mon = [];\n",
    "big_tue = [];\n",
    "big_wed = [];\n",
    "big_thu = [];\n",
    "big_fri = [];\n",
    "big_sat = [];\n",
    "big_sun = [];\n",
    "# empty lists soon to be filled\n",
    "big_mon_e = [];\n",
    "big_tue_e = [];\n",
    "big_wed_e = [];\n",
    "big_thu_e = [];\n",
    "big_fri_e = [];\n",
    "big_sat_e = [];\n",
    "big_sun_e = [];\n",
    "# splitting data into days of the week\n",
    "big_mon=big_west[0::7]\n",
    "big_tue=big_west[1::7]\n",
    "big_wed=big_west[2::7]\n",
    "big_thu=big_west[4::7]\n",
    "big_fri=big_west[5::7]\n",
    "big_sat=big_west[6::7]\n",
    "big_sun=big_west[7::7]\n",
    "# the first number tells python where to start in the list\n",
    "# the second number (7) tells python to select every 7th value after the first chosen nunber in the set\n",
    "# now it's time for eastbound bike traffic\n",
    "# the underscore e stands for eastbound\n",
    "big_mon_e=big_east[0::7]\n",
    "big_tue_e=big_east[1::7]\n",
    "big_wed_e=big_east[2::7]\n",
    "big_thu_e=big_east[4::7]\n",
    "big_fri_e=big_east[5::7]\n",
    "big_sat_e=big_east[6::7]\n",
    "big_sun_e=big_east[7::7]\n",
    "\n",
    "print(\"Mondays westbound:\", big_mon, \"Tuesdays westbound:\", big_tue, \"Wednesdays westbound:\", big_wed, \"Thursdays westbound:\", big_thu, \"Fridays westbound:\", big_fri, \"Saturdays westbound:\", big_sat, \"Sundays westbound:\", big_sun)\n",
    "print(\"Mondays eastbound:\", big_mon_e, \"Tuesdays eastbound:\", big_tue_e, \"Wednesdays eastbound:\", big_wed_e, \"Thursdays eastbound:\", big_thu_e, \"Fridays eastbound:\", big_fri_e, \"Saturdays eastbound:\", big_sat_e, \"Sundays eastbound:\", big_sun_e)"
   ]
  },
  {
   "cell_type": "markdown",
   "metadata": {},
   "source": [
    "## Data Set Modeling"
   ]
  },
  {
   "cell_type": "code",
   "execution_count": 84,
   "metadata": {},
   "outputs": [
    {
     "name": "stdout",
     "output_type": "stream",
     "text": [
      "Mon(w)avg= 1841.6 Mon(w)med= 1795 Tue(w)avg= 1971.8 Tue(w)med= 1992\n",
      "Wed(w)avg= 1684.75 Wed(w)med= 1746.5 Thu(w)avg= 971 Thu(w)med= 940.0\n",
      "Fri(w)avg= 680.25 Fri(w)med= 680.0 Sat(w)avg= 1613.25 Sat(w)med= 1719.5\n",
      "Sun(w)avg= 1953.75 Sun(w)med 1946.0\n",
      "Mon(e)avg= 1975.4 Mon(e)med= 1932 Tue(e)avg= 2082.8 Tue(e)med= 2063\n",
      "Wed(e)avg= 1806 Wed(e)med= 1848.0 Thu(e)avg= 876.25 Thu(e)med= 861.0\n",
      "Fri(e)avg= 592.75 Fri(e)med= 633.5 Sat(e)avg= 1625.75 Sat(e)med= 1812.0\n",
      "Sun(e)avg= 2098.5 Sun(e)med= 2085.5\n"
     ]
    }
   ],
   "source": [
    "# now that the data has been sorted into days of the week, it's time for some statistics\n",
    "# I'm going to find the mean and median of every list (west and east)\n",
    "# in order to find the median of the lists I am going to use the sort operator\n",
    "big_mon.sort();\n",
    "big_tue.sort();\n",
    "big_wed.sort();\n",
    "big_thu.sort();\n",
    "big_fri.sort();\n",
    "big_sat.sort();\n",
    "big_sun.sort();\n",
    "# now to sort the eastbound lists\n",
    "big_mon_e.sort();\n",
    "big_tue_e.sort();\n",
    "big_wed_e.sort();\n",
    "big_thu_e.sort();\n",
    "big_fri_e.sort();\n",
    "big_sat_e.sort();\n",
    "big_sun_e.sort();\n",
    "\n",
    "import statistics\n",
    "big_monAvg = statistics.mean(mon)\n",
    "big_monMedian = statistics.median(mon)\n",
    "big_tueAvg = statistics.mean(tue)\n",
    "big_tueMedian = statistics.median(tue)\n",
    "big_wedAvg = statistics.mean(wed)\n",
    "big_wedMedian = statistics.median(wed)\n",
    "big_thuAvg = statistics.mean(thu)\n",
    "big_thuMedian = statistics.median(thu)\n",
    "big_friAvg = statistics.mean(fri)\n",
    "big_friMedian = statistics.median(fri)\n",
    "big_satAvg = statistics.mean(sat)\n",
    "big_satMedian = statistics.median(sat)\n",
    "big_sunAvg = statistics.mean(sun)\n",
    "big_sunMedian = statistics.median(sun)\n",
    "# now for the eastbound data\n",
    "big_mon_eAvg = statistics.mean(mon_e)\n",
    "big_mon_eMedian = statistics.median(mon_e)\n",
    "big_tue_eAvg = statistics.mean(tue_e)\n",
    "big_tue_eMedian = statistics.median(tue_e)\n",
    "big_wed_eAvg = statistics.mean(wed_e)\n",
    "big_wed_eMedian = statistics.median(wed_e)\n",
    "big_thu_eAvg = statistics.mean(thu_e)\n",
    "big_thu_eMedian = statistics.median(thu_e)\n",
    "big_fri_eAvg = statistics.mean(fri_e)\n",
    "big_fri_eMedian = statistics.median(fri_e)\n",
    "big_sat_eAvg = statistics.mean(sat_e)\n",
    "big_sat_eMedian = statistics.median(sat_e)\n",
    "big_sun_eAvg = statistics.mean(sun_e)\n",
    "big_sun_eMedian = statistics.median(sun_e)\n",
    "# printing the westbound data sets\n",
    "print(\"Mon(w)avg=\", big_monAvg, \"Mon(w)med=\", big_monMedian, \"Tue(w)avg=\", big_tueAvg, \"Tue(w)med=\", big_tueMedian)\n",
    "print(\"Wed(w)avg=\", big_wedAvg, \"Wed(w)med=\", big_wedMedian, \"Thu(w)avg=\", big_thuAvg, \"Thu(w)med=\", big_thuMedian)\n",
    "print(\"Fri(w)avg=\", big_friAvg, \"Fri(w)med=\", big_friMedian, \"Sat(w)avg=\", big_satAvg, \"Sat(w)med=\", big_satMedian)\n",
    "print(\"Sun(w)avg=\", big_sunAvg, \"Sun(w)med\", big_sunMedian)\n",
    "# now printing the eastbound data sets\n",
    "print(\"Mon(e)avg=\", big_mon_eAvg, \"Mon(e)med=\", big_mon_eMedian, \"Tue(e)avg=\", big_tue_eAvg, \"Tue(e)med=\", big_tue_eMedian)\n",
    "print(\"Wed(e)avg=\", big_wed_eAvg, \"Wed(e)med=\", big_wed_eMedian, \"Thu(e)avg=\", big_thu_eAvg, \"Thu(e)med=\", big_thu_eMedian)\n",
    "print(\"Fri(e)avg=\", big_fri_eAvg, \"Fri(e)med=\", big_fri_eMedian, \"Sat(e)avg=\", big_sat_eAvg, \"Sat(e)med=\", big_sat_eMedian)\n",
    "print(\"Sun(e)avg=\", big_sun_eAvg, \"Sun(e)med=\", big_sun_eMedian)"
   ]
  },
  {
   "cell_type": "markdown",
   "metadata": {},
   "source": [
    "Now that I have the average bike traffic counts for every day of the week, I can answer the first question for the larger data set. \n",
    "\n",
    "    **Westbound**\n",
    "\n",
    "The highest average bike traffic day of the week is Saturday (avg of 1834.4215... bike crossings).\n",
    "The lowest average belongs to Wednesday with an average of 877.901... bike crossings. \n",
    "The full order goes (highest to lowest): Saturday, Friday, Sunday, Monday, Thursday, Tuesday, Wednesday\n",
    "This order is very different from the order that was generated using the smaller data set.\n",
    "By using a larger sample size, I was able to find a more accurate idea of bike traffic on the fremont bridge.\n",
    "As I had suspected before this lab, two of the three most popular days were **weekend days**.\n",
    "\n",
    "    **Eastbound**\n",
    "\n",
    "The highest average bike traffic day of the week is Friday (avg of 1634.299... bike crossings).\n",
    "The lowest average belongs to Wednesday (same as westbound) with an average of 717.372... bike crossings. \n",
    "The full order goes (highest to lowest): Friday, Saturday, Thursday, Monday, Sunday, Tuesday, Wednesday\n",
    "This order is also very different from the September data but it is not that similar to the westbound bigger data set order. \n",
    "The key similarity is that Wednesday is the least popular bike traffic day westbound **and** eastbound"
   ]
  },
  {
   "cell_type": "code",
   "execution_count": 80,
   "metadata": {
    "scrolled": false
   },
   "outputs": [
    {
     "name": "stdout",
     "output_type": "stream",
     "text": [
      "Average westbound crossings in one day 1530.9142857142856 Average eastbound crossings in one day 1579.6357142857144\n"
     ]
    }
   ],
   "source": [
    "# in addition to finding out which days of the week are the most popular, I want to find which direction is the most popular\n",
    "# to do this, I am going to average all the days of the week averages (westbound and eastbound separately)\n",
    "# the highest of the two values will be the more popular direction of bike traffic\n",
    "# first I am finding the total, then I will divide by the length (7 in both cases)\n",
    "big_westbound_total = (big_monAvg+big_tueAvg+big_wedAvg+big_thuAvg+big_friAvg+big_satAvg+big_sunAvg)\n",
    "big_eastbound_total = (big_mon_eAvg+big_tue_eAvg+big_wed_eAvg+big_thu_eAvg+big_fri_eAvg+big_sat_eAvg+big_sun_eAvg)\n",
    "big_westbound_avg = (big_westbound_total/7)\n",
    "big_eastbound_avg = (big_eastbound_total/7)\n",
    "print(\"Average westbound crossings in one day\", big_westbound_avg, \"Average eastbound crossings in one day\", big_eastbound_avg)"
   ]
  },
  {
   "cell_type": "markdown",
   "metadata": {},
   "source": [
    "In the same way as the smaller data set, the difference in bike traffic, westbound vs eastbound is very small.\n",
    "Thus, not too much can be said or concluded from this finding."
   ]
  },
  {
   "cell_type": "markdown",
   "metadata": {},
   "source": [
    "## Conclusion"
   ]
  },
  {
   "cell_type": "markdown",
   "metadata": {
    "collapsed": true
   },
   "source": [
    "**10/3/12-8/31/16**\n",
    "\n",
    "By extracting, preparing, and modeling the larger data set, I found which days and which direction were the most popular using a much larger sample size. The most popular westbound day was Saturday and the most popular eastbound day was Friday. A similarity in my findings was that Wednesday was the least popular bike traffic day. As for the answer to question three, I think that biking is less popular on Wednesday because it is the in the middle of the week. This is typically one of the busiest if not the busiest work days. As a result, people probably have less time to ride their bikes. The fact that Saturday and Friday were the most popular days makes sense because Friday afternoon is the start of the weekend and Saturday is directly in the middle of it. It's on these days that people have the most free time. Overall, analyzing two drastically different sized data sets showed me the importance of a large sample size. The results from the smaller data set were more surprising (Tuesday is most popular westbound day and Friday is the least popular day overall). Differently, the results of the larger data set made more sense (Saturday and Friday are most popular while Wednesday is the least).\n"
   ]
  },
  {
   "cell_type": "markdown",
   "metadata": {},
   "source": [
    "# Acknowledgements "
   ]
  },
  {
   "cell_type": "markdown",
   "metadata": {},
   "source": [
    "- I'd like to thank Doran Wu for showing me coding shortcuts that made my life easier\n",
    "- Thanks to Ms. Sconyers for teaching me the basics of Python\n",
    "- Data source: [https://data.seattle.gov/Transportation/Fremont-Bridge-Hourly-Bicycle-Counts-by-Month-Octo/65db-xm6k](https://data.seattle.gov/Transportation/Fremont-Bridge-Hourly-Bicycle-Counts-by-Month-Octo/65db-xm6k)"
   ]
  }
 ],
 "metadata": {
  "kernelspec": {
   "display_name": "Python 3",
   "language": "python",
   "name": "python3"
  },
  "language_info": {
   "codemirror_mode": {
    "name": "ipython",
    "version": 3
   },
   "file_extension": ".py",
   "mimetype": "text/x-python",
   "name": "python",
   "nbconvert_exporter": "python",
   "pygments_lexer": "ipython3",
   "version": "3.6.1"
  }
 },
 "nbformat": 4,
 "nbformat_minor": 2
}
